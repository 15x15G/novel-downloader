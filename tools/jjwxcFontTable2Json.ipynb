{
 "cells": [
  {
   "cell_type": "code",
   "execution_count": 1,
   "id": "revolutionary-belgium",
   "metadata": {},
   "outputs": [],
   "source": [
    "import os\n",
    "import json\n",
    "import re\n",
    "from typing import List, Dict"
   ]
  },
  {
   "cell_type": "code",
   "execution_count": 4,
   "id": "sonic-catering",
   "metadata": {},
   "outputs": [],
   "source": [
    "def parseFontTableFile(filename):\n",
    "    with open(filename,\"r\") as f:\n",
    "        fontTableLines:List = f.readlines()\n",
    "\n",
    "    fontTable:Dict = {}\n",
    "    for fontTableLine in fontTableLines:\n",
    "        [jjwxcCharacter, normalCharacter] = fontTableLine.replace('\\n','').split('-')\n",
    "        if jjwxcCharacter == '&#x78\"/;':\n",
    "            jjwxcCharacter = '&#x78;'\n",
    "        jjwxcCharacter = chr(\n",
    "            int('0x{}'.format(re.match(r'&#x(\\w+);',jjwxcCharacter)[1])\n",
    "                ,16)\n",
    "               )\n",
    "        fontTable[jjwxcCharacter] = normalCharacter\n",
    "        \n",
    "    return fontTable"
   ]
  },
  {
   "cell_type": "code",
   "execution_count": 13,
   "id": "alien-capitol",
   "metadata": {},
   "outputs": [],
   "source": [
    "def main(folder_path):\n",
    "    _cwd = os.getcwd()\n",
    "    os.chdir(folder_path)\n",
    "    fontTables = {}\n",
    "    for filename in os.listdir():\n",
    "        [fontName,fileExt] = filename.split('.')\n",
    "        if fileExt == \"txt\":\n",
    "            fontTable = parseFontTableFile(filename)\n",
    "            fontTables[fontName] = fontTable\n",
    "\n",
    "    os.chdir(_cwd)\n",
    "    return fontTables"
   ]
  },
  {
   "cell_type": "code",
   "execution_count": 18,
   "id": "crucial-handbook",
   "metadata": {},
   "outputs": [],
   "source": [
    "fontTables = main(\"../tmp/jjwxcNovelCrawler/反爬虫对照表/\")\n",
    "with open(\"fontTables.json\",\"w\") as f:\n",
    "    json.dump(fontTables,f)"
   ]
  }
 ],
 "metadata": {
  "kernelspec": {
   "display_name": "Python 3",
   "language": "python",
   "name": "python3"
  },
  "language_info": {
   "codemirror_mode": {
    "name": "ipython",
    "version": 3
   },
   "file_extension": ".py",
   "mimetype": "text/x-python",
   "name": "python",
   "nbconvert_exporter": "python",
   "pygments_lexer": "ipython3",
   "version": "3.9.4"
  }
 },
 "nbformat": 4,
 "nbformat_minor": 5
}
